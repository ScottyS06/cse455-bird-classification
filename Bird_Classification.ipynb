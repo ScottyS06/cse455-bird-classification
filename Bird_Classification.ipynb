{
  "nbformat": 4,
  "nbformat_minor": 0,
  "metadata": {
    "colab": {
      "provenance": [],
      "machine_shape": "hm"
    },
    "kernelspec": {
      "name": "python3",
      "display_name": "Python 3"
    },
    "language_info": {
      "name": "python"
    },
    "accelerator": "GPU",
    "gpuClass": "premium"
  },
  "cells": [
    {
      "cell_type": "code",
      "execution_count": null,
      "metadata": {
        "colab": {
          "base_uri": "https://localhost:8080/"
        },
        "id": "DQClu72hE8-a",
        "outputId": "4212d310-dc4f-4332-aad8-f18767677d71"
      },
      "outputs": [
        {
          "output_type": "stream",
          "name": "stdout",
          "text": [
            "cuda:0\n"
          ]
        }
      ],
      "source": [
        "import numpy as np\n",
        "import matplotlib.pyplot as plt\n",
        "import gc\n",
        "\n",
        "import torch\n",
        "import torchvision\n",
        "import torchvision.transforms as transforms\n",
        "import torch.nn as nn\n",
        "import torch.nn.functional as F\n",
        "import torch.optim as optim\n",
        "from torch.utils.data import random_split\n",
        "\n",
        "device = torch.device(\"cuda:0\" if torch.cuda.is_available() else \"cpu\")\n",
        "print(device)"
      ]
    },
    {
      "cell_type": "code",
      "source": [
        "import os\n",
        "from google.colab import drive\n",
        "drive.mount('/content/drive')\n",
        "checkpoints = '/content/drive/MyDrive/colab_files/birds/'\n",
        "if not os.path.exists(checkpoints):\n",
        "    os.makedirs(checkpoints)"
      ],
      "metadata": {
        "colab": {
          "base_uri": "https://localhost:8080/"
        },
        "id": "8T_HWmRJJFOS",
        "outputId": "b6eb0ccb-daeb-4bd4-8fa1-d367bc2c07c1"
      },
      "execution_count": null,
      "outputs": [
        {
          "output_type": "stream",
          "name": "stdout",
          "text": [
            "Mounted at /content/drive\n"
          ]
        }
      ]
    },
    {
      "cell_type": "code",
      "source": [
        "import os\n",
        "if not os.path.exists('birds21wi'):\n",
        "    !mkdir birds21wi\n",
        "    os.chdir('birds21wi')\n",
        "    !wget https://pjreddie.com/media/files/birds/train.tar\n",
        "    !wget https://pjreddie.com/media/files/birds/test.tar\n",
        "    !wget https://pjreddie.com/media/files/birds/names.txt\n",
        "    !tar xf train.tar\n",
        "    !tar xf test.tar\n",
        "    !mkdir testing\n",
        "    !mv test testing\n",
        "    os.chdir('..')"
      ],
      "metadata": {
        "colab": {
          "base_uri": "https://localhost:8080/"
        },
        "id": "hMBtC_46JnBx",
        "outputId": "d1d5ad46-84f8-4406-b9cf-e6f41a3804eb"
      },
      "execution_count": null,
      "outputs": [
        {
          "output_type": "stream",
          "name": "stdout",
          "text": [
            "--2023-03-11 22:35:15--  https://pjreddie.com/media/files/birds/train.tar\n",
            "Resolving pjreddie.com (pjreddie.com)... 128.208.4.108\n",
            "Connecting to pjreddie.com (pjreddie.com)|128.208.4.108|:443... connected.\n",
            "HTTP request sent, awaiting response... 200 OK\n",
            "Length: 7970048512 (7.4G) [application/octet-stream]\n",
            "Saving to: ‘train.tar’\n",
            "\n",
            "train.tar           100%[===================>]   7.42G  17.7MB/s    in 7m 53s  \n",
            "\n",
            "2023-03-11 22:43:08 (16.1 MB/s) - ‘train.tar’ saved [7970048512/7970048512]\n",
            "\n",
            "--2023-03-11 22:43:08--  https://pjreddie.com/media/files/birds/test.tar\n",
            "Resolving pjreddie.com (pjreddie.com)... 128.208.4.108\n",
            "Connecting to pjreddie.com (pjreddie.com)|128.208.4.108|:443... connected.\n",
            "HTTP request sent, awaiting response... 200 OK\n",
            "Length: 2057210880 (1.9G) [application/octet-stream]\n",
            "Saving to: ‘test.tar’\n",
            "\n",
            "test.tar            100%[===================>]   1.92G  15.8MB/s    in 1m 53s  \n",
            "\n",
            "2023-03-11 22:45:03 (17.3 MB/s) - ‘test.tar’ saved [2057210880/2057210880]\n",
            "\n",
            "--2023-03-11 22:45:03--  https://pjreddie.com/media/files/birds/names.txt\n",
            "Resolving pjreddie.com (pjreddie.com)... 128.208.4.108\n",
            "Connecting to pjreddie.com (pjreddie.com)|128.208.4.108|:443... connected.\n",
            "HTTP request sent, awaiting response... 200 OK\n",
            "Length: 13755 (13K) [text/plain]\n",
            "Saving to: ‘names.txt’\n",
            "\n",
            "names.txt           100%[===================>]  13.43K  --.-KB/s    in 0s      \n",
            "\n",
            "2023-03-11 22:45:04 (235 MB/s) - ‘names.txt’ saved [13755/13755]\n",
            "\n"
          ]
        }
      ]
    },
    {
      "cell_type": "markdown",
      "source": [
        "# Data Preparation"
      ],
      "metadata": {
        "id": "H1c30zT8V6vQ"
      }
    },
    {
      "cell_type": "code",
      "source": [
        "def get_bird_data(augmentation=0):\n",
        "\n",
        "    # Define transformations for train and test set\n",
        "    transform_train = transforms.Compose([\n",
        "        transforms.Resize(224),\n",
        "        transforms.RandomCrop(224, padding=8, padding_mode='edge'), # Take 224x224 crops from padded images\n",
        "        transforms.RandomHorizontalFlip(),    # 50% of time flip image along y-axis\n",
        "        transforms.ToTensor(),\n",
        "    ])\n",
        "    \n",
        "    transform_test = transforms.Compose([\n",
        "        transforms.Resize(224),\n",
        "        transforms.ToTensor(),\n",
        "    ])\n",
        "\n",
        "    # Generate train, val, and test datasets\n",
        "    trainset = torchvision.datasets.ImageFolder(root='birds21wi/train', transform=transform_train)\n",
        "    testset = torchvision.datasets.ImageFolder(root='birds21wi/testing', transform=transform_test)\n",
        "\n",
        "    # 90:10 split of training set to generate a validation set\n",
        "    train_split, val_split = random_split(trainset, [int(0.9 * len(trainset) + 1), int( 0.1 * len(trainset))])\n",
        "\n",
        "    trainloader = torch.utils.data.DataLoader(train_split, batch_size=128, shuffle=True, num_workers=2)\n",
        "    valloader = torch.utils.data.DataLoader(val_split, batch_size=1, shuffle=False, num_workers=2)\n",
        "    testloader = torch.utils.data.DataLoader(testset, batch_size=1, shuffle=False, num_workers=2)\n",
        "\n",
        "    classes = open(\"birds21wi/names.txt\").read().strip().split(\"\\n\")\n",
        "    class_to_idx = trainset.class_to_idx\n",
        "    idx_to_class = {int(v): int(k) for k, v in class_to_idx.items()}\n",
        "    idx_to_name = {k: classes[v] for k,v in idx_to_class.items()}\n",
        "    return {'train': trainloader, 'val': valloader, 'test': testloader, 'to_class': idx_to_class, 'to_name':idx_to_name}\n",
        "\n",
        "data = get_bird_data()"
      ],
      "metadata": {
        "id": "YlTYTrXDI_wz"
      },
      "execution_count": null,
      "outputs": []
    },
    {
      "cell_type": "code",
      "source": [
        "print(len(data['train'].dataset))\n",
        "print(len(data['val'].dataset))\n",
        "print(len(data['test'].dataset))"
      ],
      "metadata": {
        "colab": {
          "base_uri": "https://localhost:8080/"
        },
        "id": "rfvxMD3OLlfR",
        "outputId": "05deeb38-7f7a-4209-9ffc-d9aea74e2d4e"
      },
      "execution_count": null,
      "outputs": [
        {
          "output_type": "stream",
          "name": "stdout",
          "text": [
            "34706\n",
            "3856\n",
            "10000\n"
          ]
        }
      ]
    },
    {
      "cell_type": "code",
      "source": [
        "dataiter = iter(data['train'])\n",
        "images, labels = next(dataiter)\n",
        "images = images[:4]\n",
        "print(images.size())\n",
        "\n",
        "def imshow(img):\n",
        "    npimg = img.numpy()\n",
        "    plt.imshow(np.transpose(npimg, (1, 2, 0)))\n",
        "    plt.show()\n",
        "\n",
        "# show images\n",
        "imshow(torchvision.utils.make_grid(images))"
      ],
      "metadata": {
        "colab": {
          "base_uri": "https://localhost:8080/",
          "height": 154
        },
        "id": "rSaV87Bo2hov",
        "outputId": "dbba4474-96d2-48a0-cc34-b6f92de8ec75"
      },
      "execution_count": null,
      "outputs": [
        {
          "output_type": "stream",
          "name": "stdout",
          "text": [
            "torch.Size([4, 3, 224, 224])\n"
          ]
        },
        {
          "output_type": "display_data",
          "data": {
            "text/plain": [
              "<Figure size 432x288 with 1 Axes>"
            ],
            "image/png": "[encoded data removed]"
          },
          "metadata": {
            "needs_background": "light"
          }
        }
      ]
    },
    {
      "cell_type": "markdown",
      "source": [
        "# Helper Methods"
      ],
      "metadata": {
        "id": "GACYvkFwV-na"
      }
    },
    {
      "cell_type": "code",
      "source": [
        "def train(net, dataloader, valloader, epochs=1, start_epoch=0, lr=0.01, momentum=0.9, decay=0.0005, \n",
        "          verbose=1, print_every=10, state=None, schedule={}, checkpoint_path=None):\n",
        "    net.to(device)\n",
        "    losses = []\n",
        "    val_losses = []\n",
        "    criterion = nn.CrossEntropyLoss()\n",
        "    optimizer = optim.SGD(net.parameters(), lr=lr, momentum=momentum, weight_decay=decay)\n",
        "\n",
        "    # Load previous training state\n",
        "    if state:\n",
        "        net.load_state_dict(state['net'])\n",
        "        optimizer.load_state_dict(state['optimizer'])\n",
        "        start_epoch = state['epoch']\n",
        "        losses = state['losses']\n",
        "        if valloader is not None:\n",
        "          val_losses = state['val_losses']\n",
        "\n",
        "    # Fast forward lr schedule through already trained epochs\n",
        "    for epoch in range(start_epoch):\n",
        "        if epoch in schedule:\n",
        "            print (\"Learning rate: %f\"% schedule[epoch])\n",
        "            for g in optimizer.param_groups:\n",
        "                g['lr'] = schedule[epoch]\n",
        "\n",
        "    for epoch in range(start_epoch, epochs):\n",
        "        sum_loss = 0.0\n",
        "        net.train()\n",
        "\n",
        "        # Update learning rate when scheduled\n",
        "        if epoch in schedule:\n",
        "            print (\"Learning rate: %f\"% schedule[epoch])\n",
        "            for g in optimizer.param_groups:\n",
        "                g['lr'] = schedule[epoch]\n",
        "\n",
        "        for i, batch in enumerate(dataloader, 0):\n",
        "            inputs, labels = batch[0].to(device), batch[1].to(device)\n",
        "\n",
        "            optimizer.zero_grad()\n",
        "\n",
        "            outputs = net(inputs)\n",
        "            loss = criterion(outputs, labels)\n",
        "            loss.backward()  # autograd magic, computes all the partial derivatives\n",
        "            optimizer.step() # takes a step in gradient direction\n",
        "\n",
        "            losses.append(loss.item())\n",
        "            sum_loss += loss.item()\n",
        "\n",
        "            if i % print_every == print_every-1:    # print every 10 mini-batches\n",
        "                if verbose:\n",
        "                  print('[%d, %5d] loss: %.3f' % (epoch, i + 1, sum_loss / print_every))\n",
        "                sum_loss = 0.0\n",
        "\n",
        "        # Validation loop; use .no_grad() context manager to save memory.\n",
        "        if valloader is not None:\n",
        "          net.eval()\n",
        "          val_loss = 0.0\n",
        "\n",
        "          with torch.no_grad():\n",
        "            for batch in valloader:\n",
        "              inputs, labels = batch[0].to(device), batch[1].to(device)\n",
        "              ouputs = net(inputs)\n",
        "              loss = criterion(ouputs, labels)\n",
        "\n",
        "              val_losses.append(loss.item())\n",
        "\n",
        "        if checkpoint_path:\n",
        "            state = {'epoch': epoch+1, 'net': net.state_dict(), 'optimizer': optimizer.state_dict(), 'losses': losses, 'val_losses': val_losses}\n",
        "            torch.save(state, checkpoint_path + 'checkpoint-%d.pkl'%(epoch+1))\n",
        "\n",
        "    return losses, val_losses"
      ],
      "metadata": {
        "id": "sTZMAbQyI6Sx"
      },
      "execution_count": null,
      "outputs": []
    },
    {
      "cell_type": "code",
      "source": [
        "def predict(net, dataloader, ofname):\n",
        "    out = open(ofname, 'w')\n",
        "    out.write(\"path,class\\n\")\n",
        "    net.to(device)\n",
        "    net.eval()\n",
        "    correct = 0\n",
        "    total = 0\n",
        "    with torch.no_grad():\n",
        "        for i, (images, labels) in enumerate(dataloader, 0):\n",
        "            if i%100 == 0:\n",
        "                print(i)\n",
        "            images, labels = images.to(device), labels.to(device)\n",
        "            outputs = net(images)\n",
        "            _, predicted = torch.max(outputs.data, 1)\n",
        "            fname, _ = dataloader.dataset.samples[i]\n",
        "            out.write(\"test/{},{}\\n\".format(fname.split('/')[-1], data['to_class'][predicted.item()]))\n",
        "    out.close()"
      ],
      "metadata": {
        "id": "UJxQiIv2LDCW"
      },
      "execution_count": null,
      "outputs": []
    },
    {
      "cell_type": "code",
      "source": [
        "def smooth(x, size):\n",
        "  return np.convolve(x, np.ones(size)/size, mode='valid')"
      ],
      "metadata": {
        "id": "whmMAhYC-1Us"
      },
      "execution_count": null,
      "outputs": []
    },
    {
      "cell_type": "markdown",
      "source": [
        "# Transfer Learning on Bird Dataset\n",
        "\n",
        "This section contains several different tests on pretrained models. The models that are testing include the following:\n",
        "\n",
        "1. Resnet18\n",
        "2. Resnet50"
      ],
      "metadata": {
        "id": "3u4ZKMKjMQaH"
      }
    },
    {
      "cell_type": "markdown",
      "source": [
        "## Resnet18 "
      ],
      "metadata": {
        "id": "uSkpVkGjMu_J"
      }
    },
    {
      "cell_type": "code",
      "source": [
        "resnet = torch.hub.load('pytorch/vision:v0.6.0', 'resnet18', pretrained=True)\n",
        "resnet.fc = nn.Linear(512, 555) # This will reinitialize the layer as well\n",
        "\n",
        "checkpoints = '/content/drive/MyDrive/colab_files/birds/resnet18'\n",
        "if not os.path.exists(checkpoints):\n",
        "    os.makedirs(checkpoints)"
      ],
      "metadata": {
        "colab": {
          "base_uri": "https://localhost:8080/"
        },
        "id": "OpKtrZ9-KoCc",
        "outputId": "db1ea2b4-8990-4c3f-d544-60c5e97f3ef3"
      },
      "execution_count": null,
      "outputs": [
        {
          "output_type": "stream",
          "name": "stderr",
          "text": [
            "Using cache found in /root/.cache/torch/hub/pytorch_vision_v0.6.0\n"
          ]
        }
      ]
    },
    {
      "cell_type": "code",
      "source": [
        "losses, val_losses = train(resnet, data['train'], data['val'], epochs=5, schedule={0:0.1, 2:0.01}, print_every=10, checkpoint_path=checkpoints)"
      ],
      "metadata": {
        "colab": {
          "base_uri": "https://localhost:8080/"
        },
        "id": "mX7iGv5NMLwf",
        "outputId": "59f34b3c-a13d-4f01-e0cb-a2440980cb79"
      },
      "execution_count": null,
      "outputs": [
        {
          "output_type": "stream",
          "name": "stdout",
          "text": [
            "Learning rate: 0.100000\n",
            "[0,    10] loss: 6.443\n",
            "[0,    20] loss: 6.263\n",
            "[0,    30] loss: 5.729\n",
            "[0,    40] loss: 5.515\n",
            "[0,    50] loss: 5.065\n",
            "[0,    60] loss: 4.845\n",
            "[0,    70] loss: 4.621\n",
            "[0,    80] loss: 4.550\n",
            "[0,    90] loss: 4.463\n",
            "[0,   100] loss: 4.330\n",
            "[0,   110] loss: 4.150\n",
            "[0,   120] loss: 3.997\n",
            "[0,   130] loss: 3.933\n",
            "[0,   140] loss: 3.879\n",
            "[0,   150] loss: 3.872\n",
            "[0,   160] loss: 3.722\n",
            "[0,   170] loss: 3.664\n",
            "[0,   180] loss: 3.498\n",
            "[0,   190] loss: 3.379\n",
            "[0,   200] loss: 3.332\n",
            "[0,   210] loss: 3.249\n",
            "[0,   220] loss: 3.113\n",
            "[0,   230] loss: 3.272\n",
            "[0,   240] loss: 3.166\n",
            "[0,   250] loss: 3.192\n",
            "[0,   260] loss: 3.123\n",
            "[0,   270] loss: 3.104\n",
            "[1,    10] loss: 2.999\n",
            "[1,    20] loss: 2.821\n",
            "[1,    30] loss: 2.754\n",
            "[1,    40] loss: 2.854\n",
            "[1,    50] loss: 2.803\n",
            "[1,    60] loss: 2.704\n",
            "[1,    70] loss: 2.736\n",
            "[1,    80] loss: 2.729\n",
            "[1,    90] loss: 2.679\n",
            "[1,   100] loss: 2.727\n",
            "[1,   110] loss: 2.675\n",
            "[1,   120] loss: 2.588\n",
            "[1,   130] loss: 2.639\n",
            "[1,   140] loss: 2.492\n",
            "[1,   150] loss: 2.614\n",
            "[1,   160] loss: 2.520\n",
            "[1,   170] loss: 2.449\n",
            "[1,   180] loss: 2.508\n",
            "[1,   190] loss: 2.526\n",
            "[1,   200] loss: 2.532\n",
            "[1,   210] loss: 2.440\n",
            "[1,   220] loss: 2.365\n",
            "[1,   230] loss: 2.401\n",
            "[1,   240] loss: 2.321\n",
            "[1,   250] loss: 2.463\n",
            "[1,   260] loss: 2.271\n",
            "[1,   270] loss: 2.382\n",
            "Learning rate: 0.010000\n",
            "[2,    10] loss: 2.125\n",
            "[2,    20] loss: 1.870\n",
            "[2,    30] loss: 1.717\n",
            "[2,    40] loss: 1.646\n",
            "[2,    50] loss: 1.587\n",
            "[2,    60] loss: 1.535\n",
            "[2,    70] loss: 1.496\n",
            "[2,    80] loss: 1.448\n",
            "[2,    90] loss: 1.420\n",
            "[2,   100] loss: 1.460\n",
            "[2,   110] loss: 1.316\n",
            "[2,   120] loss: 1.430\n",
            "[2,   130] loss: 1.418\n",
            "[2,   140] loss: 1.497\n",
            "[2,   150] loss: 1.370\n",
            "[2,   160] loss: 1.384\n",
            "[2,   170] loss: 1.352\n",
            "[2,   180] loss: 1.329\n",
            "[2,   190] loss: 1.321\n",
            "[2,   200] loss: 1.348\n",
            "[2,   210] loss: 1.341\n",
            "[2,   220] loss: 1.244\n",
            "[2,   230] loss: 1.376\n",
            "[2,   240] loss: 1.273\n",
            "[2,   250] loss: 1.348\n",
            "[2,   260] loss: 1.322\n",
            "[2,   270] loss: 1.238\n",
            "[3,    10] loss: 1.246\n",
            "[3,    20] loss: 1.196\n",
            "[3,    30] loss: 1.239\n",
            "[3,    40] loss: 1.233\n",
            "[3,    50] loss: 1.208\n",
            "[3,    60] loss: 1.196\n",
            "[3,    70] loss: 1.178\n",
            "[3,    80] loss: 1.186\n",
            "[3,    90] loss: 1.230\n",
            "[3,   100] loss: 1.176\n",
            "[3,   110] loss: 1.237\n",
            "[3,   120] loss: 1.213\n",
            "[3,   130] loss: 1.172\n",
            "[3,   140] loss: 1.157\n",
            "[3,   150] loss: 1.170\n",
            "[3,   160] loss: 1.214\n",
            "[3,   170] loss: 1.238\n",
            "[3,   180] loss: 1.111\n",
            "[3,   190] loss: 1.111\n",
            "[3,   200] loss: 1.186\n",
            "[3,   210] loss: 1.151\n",
            "[3,   220] loss: 1.103\n",
            "[3,   230] loss: 1.126\n",
            "[3,   240] loss: 1.178\n",
            "[3,   250] loss: 1.213\n",
            "[3,   260] loss: 1.112\n",
            "[3,   270] loss: 1.052\n",
            "[4,    10] loss: 1.108\n",
            "[4,    20] loss: 1.073\n",
            "[4,    30] loss: 1.031\n",
            "[4,    40] loss: 1.086\n",
            "[4,    50] loss: 0.997\n",
            "[4,    60] loss: 1.031\n",
            "[4,    70] loss: 1.006\n",
            "[4,    80] loss: 1.010\n",
            "[4,    90] loss: 0.990\n",
            "[4,   100] loss: 1.065\n",
            "[4,   110] loss: 1.005\n",
            "[4,   120] loss: 1.054\n",
            "[4,   130] loss: 1.078\n",
            "[4,   140] loss: 1.043\n",
            "[4,   150] loss: 0.998\n",
            "[4,   160] loss: 1.072\n",
            "[4,   170] loss: 1.105\n",
            "[4,   180] loss: 1.043\n",
            "[4,   190] loss: 1.030\n",
            "[4,   200] loss: 1.023\n",
            "[4,   210] loss: 1.097\n",
            "[4,   220] loss: 1.032\n",
            "[4,   230] loss: 1.055\n",
            "[4,   240] loss: 1.023\n",
            "[4,   250] loss: 0.976\n",
            "[4,   260] loss: 1.061\n",
            "[4,   270] loss: 1.058\n"
          ]
        }
      ]
    },
    {
      "cell_type": "code",
      "source": [
        "plt.plot(smooth(losses,50))"
      ],
      "metadata": {
        "colab": {
          "base_uri": "https://localhost:8080/",
          "height": 286
        },
        "id": "VSBIdyK192Hw",
        "outputId": "d77c8f40-be2b-4fb0-ae53-c4a2f1541547"
      },
      "execution_count": null,
      "outputs": [
        {
          "output_type": "execute_result",
          "data": {
            "text/plain": [
              "[<matplotlib.lines.Line2D at 0x7fe6a85ddf40>]"
            ]
          },
          "metadata": {},
          "execution_count": 15
        },
        {
          "output_type": "display_data",
          "data": {
            "text/plain": [
              "<Figure size 432x288 with 1 Axes>"
            ],
            "image/png": "[encoded data removed]"
          },
          "metadata": {
            "needs_background": "light"
          }
        }
      ]
    },
    {
      "cell_type": "code",
      "source": [
        "plt.plot(smooth(val_losses,75))"
      ],
      "metadata": {
        "colab": {
          "base_uri": "https://localhost:8080/",
          "height": 283
        },
        "id": "g4fjldUN_AsT",
        "outputId": "34d59a54-cff5-4e4c-b7ec-3d4f4b390146"
      },
      "execution_count": null,
      "outputs": [
        {
          "output_type": "execute_result",
          "data": {
            "text/plain": [
              "[<matplotlib.lines.Line2D at 0x7fe6a837a4c0>]"
            ]
          },
          "metadata": {},
          "execution_count": 20
        },
        {
          "output_type": "display_data",
          "data": {
            "text/plain": [
              "<Figure size 432x288 with 1 Axes>"
            ],
            "image/png": "[encoded data removed]"
          },
          "metadata": {
            "needs_background": "light"
          }
        }
      ]
    },
    {
      "cell_type": "code",
      "source": [
        "checkpoints = '/content/drive/MyDrive/colab_files/birds/resnet18/'\n",
        "state = torch.load(checkpoints + 'checkpoint-4.pkl')\n",
        "losses, val_losses = train(resnet, data['train'], data['val'], start_epoch=5, epochs=8, schedule={4:0.01, 6: 0.001}, print_every=10, state=state, checkpoint_path=checkpoints)"
      ],
      "metadata": {
        "colab": {
          "base_uri": "https://localhost:8080/"
        },
        "id": "r-XVR1v6_i2E",
        "outputId": "915750b6-781b-4a28-c353-d42b742eee39"
      },
      "execution_count": null,
      "outputs": [
        {
          "output_type": "stream",
          "name": "stdout",
          "text": [
            "Learning rate: 0.010000\n",
            "[4,    10] loss: 1.009\n",
            "[4,    20] loss: 1.111\n",
            "[4,    30] loss: 1.079\n",
            "[4,    40] loss: 1.044\n",
            "[4,    50] loss: 1.073\n",
            "[4,    60] loss: 1.041\n",
            "[4,    70] loss: 1.048\n",
            "[4,    80] loss: 1.040\n",
            "[4,    90] loss: 1.061\n",
            "[4,   100] loss: 0.981\n",
            "[4,   110] loss: 1.048\n",
            "[4,   120] loss: 1.148\n",
            "[4,   130] loss: 1.050\n",
            "[4,   140] loss: 1.037\n",
            "[4,   150] loss: 1.015\n",
            "[4,   160] loss: 1.063\n",
            "[4,   170] loss: 1.060\n",
            "[4,   180] loss: 1.045\n",
            "[4,   190] loss: 1.005\n",
            "[4,   200] loss: 1.020\n",
            "[4,   210] loss: 1.014\n",
            "[4,   220] loss: 1.052\n",
            "[4,   230] loss: 1.036\n",
            "[4,   240] loss: 1.142\n",
            "[4,   250] loss: 1.065\n",
            "[4,   260] loss: 0.988\n",
            "[4,   270] loss: 1.024\n",
            "[5,    10] loss: 0.952\n",
            "[5,    20] loss: 0.929\n",
            "[5,    30] loss: 0.923\n",
            "[5,    40] loss: 0.954\n",
            "[5,    50] loss: 0.885\n",
            "[5,    60] loss: 0.926\n",
            "[5,    70] loss: 0.943\n",
            "[5,    80] loss: 0.914\n",
            "[5,    90] loss: 1.036\n",
            "[5,   100] loss: 0.937\n",
            "[5,   110] loss: 0.958\n",
            "[5,   120] loss: 0.943\n",
            "[5,   130] loss: 0.978\n",
            "[5,   140] loss: 0.879\n",
            "[5,   150] loss: 0.981\n",
            "[5,   160] loss: 0.991\n",
            "[5,   170] loss: 0.949\n",
            "[5,   180] loss: 0.957\n",
            "[5,   190] loss: 0.927\n",
            "[5,   200] loss: 1.023\n",
            "[5,   210] loss: 0.952\n",
            "[5,   220] loss: 0.899\n",
            "[5,   230] loss: 0.979\n",
            "[5,   240] loss: 0.962\n",
            "[5,   250] loss: 0.931\n",
            "[5,   260] loss: 0.927\n",
            "[5,   270] loss: 0.927\n",
            "Learning rate: 0.001000\n",
            "[6,    10] loss: 0.827\n",
            "[6,    20] loss: 0.874\n",
            "[6,    30] loss: 0.823\n",
            "[6,    40] loss: 0.898\n",
            "[6,    50] loss: 0.842\n",
            "[6,    60] loss: 0.839\n",
            "[6,    70] loss: 0.789\n",
            "[6,    80] loss: 0.809\n",
            "[6,    90] loss: 0.851\n",
            "[6,   100] loss: 0.806\n",
            "[6,   110] loss: 0.838\n",
            "[6,   120] loss: 0.823\n",
            "[6,   130] loss: 0.846\n",
            "[6,   140] loss: 0.873\n",
            "[6,   150] loss: 0.814\n",
            "[6,   160] loss: 0.774\n",
            "[6,   170] loss: 0.783\n",
            "[6,   180] loss: 0.803\n",
            "[6,   190] loss: 0.802\n",
            "[6,   200] loss: 0.798\n",
            "[6,   210] loss: 0.839\n",
            "[6,   220] loss: 0.797\n",
            "[6,   230] loss: 0.785\n",
            "[6,   240] loss: 0.787\n",
            "[6,   250] loss: 0.827\n",
            "[6,   260] loss: 0.768\n",
            "[6,   270] loss: 0.840\n",
            "[7,    10] loss: 0.816\n",
            "[7,    20] loss: 0.774\n",
            "[7,    30] loss: 0.778\n",
            "[7,    40] loss: 0.758\n",
            "[7,    50] loss: 0.832\n",
            "[7,    60] loss: 0.752\n",
            "[7,    70] loss: 0.815\n",
            "[7,    80] loss: 0.833\n",
            "[7,    90] loss: 0.783\n",
            "[7,   100] loss: 0.827\n",
            "[7,   110] loss: 0.821\n",
            "[7,   120] loss: 0.806\n",
            "[7,   130] loss: 0.836\n",
            "[7,   140] loss: 0.750\n",
            "[7,   150] loss: 0.787\n",
            "[7,   160] loss: 0.798\n",
            "[7,   170] loss: 0.790\n",
            "[7,   180] loss: 0.802\n",
            "[7,   190] loss: 0.772\n",
            "[7,   200] loss: 0.761\n",
            "[7,   210] loss: 0.773\n",
            "[7,   220] loss: 0.795\n",
            "[7,   230] loss: 0.739\n",
            "[7,   240] loss: 0.833\n",
            "[7,   250] loss: 0.798\n",
            "[7,   260] loss: 0.784\n",
            "[7,   270] loss: 0.852\n"
          ]
        }
      ]
    },
    {
      "cell_type": "code",
      "source": [
        "predict(resnet, data['test'], checkpoints + \"preds.csv\")"
      ],
      "metadata": {
        "id": "Jcve0Rjmiov-",
        "colab": {
          "base_uri": "https://localhost:8080/"
        },
        "outputId": "7394e4f7-f592-4932-9168-697e7983cbfc"
      },
      "execution_count": null,
      "outputs": [
        {
          "output_type": "stream",
          "name": "stdout",
          "text": [
            "0\n",
            "100\n",
            "200\n",
            "300\n",
            "400\n",
            "500\n",
            "600\n",
            "700\n",
            "800\n",
            "900\n",
            "1000\n",
            "1100\n",
            "1200\n",
            "1300\n",
            "1400\n",
            "1500\n",
            "1600\n",
            "1700\n",
            "1800\n",
            "1900\n",
            "2000\n",
            "2100\n",
            "2200\n",
            "2300\n",
            "2400\n",
            "2500\n",
            "2600\n",
            "2700\n",
            "2800\n",
            "2900\n",
            "3000\n",
            "3100\n",
            "3200\n",
            "3300\n",
            "3400\n",
            "3500\n",
            "3600\n",
            "3700\n",
            "3800\n",
            "3900\n",
            "4000\n",
            "4100\n",
            "4200\n",
            "4300\n",
            "4400\n",
            "4500\n",
            "4600\n",
            "4700\n",
            "4800\n",
            "4900\n",
            "5000\n",
            "5100\n",
            "5200\n",
            "5300\n",
            "5400\n",
            "5500\n",
            "5600\n",
            "5700\n",
            "5800\n",
            "5900\n",
            "6000\n",
            "6100\n",
            "6200\n",
            "6300\n",
            "6400\n",
            "6500\n",
            "6600\n",
            "6700\n",
            "6800\n",
            "6900\n",
            "7000\n",
            "7100\n",
            "7200\n",
            "7300\n",
            "7400\n",
            "7500\n",
            "7600\n",
            "7700\n",
            "7800\n",
            "7900\n",
            "8000\n",
            "8100\n",
            "8200\n",
            "8300\n",
            "8400\n",
            "8500\n",
            "8600\n",
            "8700\n",
            "8800\n",
            "8900\n",
            "9000\n",
            "9100\n",
            "9200\n",
            "9300\n",
            "9400\n",
            "9500\n",
            "9600\n",
            "9700\n",
            "9800\n",
            "9900\n"
          ]
        }
      ]
    },
    {
      "cell_type": "markdown",
      "source": [
        "## Resnet50"
      ],
      "metadata": {
        "id": "6SOUcRb2gVKp"
      }
    },
    {
      "cell_type": "code",
      "source": [
        "resnet50 = torch.hub.load('pytorch/vision:v0.6.0', 'resnet50', pretrained=True)\n",
        "num_ftrs = resnet50.fc.in_features\n",
        "resnet50.fc = nn.Linear(num_ftrs, 555) # This will reinitialize the layer as well"
      ],
      "metadata": {
        "colab": {
          "base_uri": "https://localhost:8080/"
        },
        "id": "WQtEgRDAgGQw",
        "outputId": "3f2b2035-f44b-45c6-9088-8532bdf5816b"
      },
      "execution_count": null,
      "outputs": [
        {
          "output_type": "stream",
          "name": "stderr",
          "text": [
            "Using cache found in /root/.cache/torch/hub/pytorch_vision_v0.6.0\n"
          ]
        }
      ]
    },
    {
      "cell_type": "code",
      "source": [
        "checkpoints = '/content/drive/MyDrive/colab_files/birds/resnet50/'\n",
        "if not os.path.exists(checkpoints):\n",
        "    os.makedirs(checkpoints)\n",
        "losses, val_losses = train(resnet50, data['train'], data['val'], start_epoch=5, epochs=6, lr=0.01, print_every=10, checkpoint_path=checkpoints)"
      ],
      "metadata": {
        "colab": {
          "base_uri": "https://localhost:8080/"
        },
        "id": "uQeI1jjIgUuS",
        "outputId": "9fa84358-a5a3-426d-ca95-39f01fd9be9a"
      },
      "execution_count": null,
      "outputs": [
        {
          "output_type": "stream",
          "name": "stdout",
          "text": [
            "[5,    10] loss: 0.914\n",
            "[5,    20] loss: 0.905\n",
            "[5,    30] loss: 0.838\n",
            "[5,    40] loss: 0.832\n",
            "[5,    50] loss: 0.940\n",
            "[5,    60] loss: 0.858\n",
            "[5,    70] loss: 0.864\n",
            "[5,    80] loss: 0.916\n",
            "[5,    90] loss: 0.919\n",
            "[5,   100] loss: 0.902\n",
            "[5,   110] loss: 0.832\n",
            "[5,   120] loss: 0.926\n",
            "[5,   130] loss: 0.913\n",
            "[5,   140] loss: 0.897\n",
            "[5,   150] loss: 0.968\n",
            "[5,   160] loss: 0.895\n",
            "[5,   170] loss: 0.921\n",
            "[5,   180] loss: 0.893\n",
            "[5,   190] loss: 0.892\n",
            "[5,   200] loss: 0.909\n",
            "[5,   210] loss: 0.862\n",
            "[5,   220] loss: 0.876\n",
            "[5,   230] loss: 0.847\n",
            "[5,   240] loss: 0.894\n",
            "[5,   250] loss: 0.926\n",
            "[5,   260] loss: 0.895\n",
            "[5,   270] loss: 0.928\n"
          ]
        }
      ]
    },
    {
      "cell_type": "code",
      "source": [
        "plt.plot(smooth(losses,50))"
      ],
      "metadata": {
        "colab": {
          "base_uri": "https://localhost:8080/",
          "height": 283
        },
        "id": "JKtK8XkaT2Wu",
        "outputId": "9a893e1d-5640-4d6b-9b0c-36c7db4fed98"
      },
      "execution_count": null,
      "outputs": [
        {
          "output_type": "execute_result",
          "data": {
            "text/plain": [
              "[<matplotlib.lines.Line2D at 0x7fe6a983cbb0>]"
            ]
          },
          "metadata": {},
          "execution_count": 35
        },
        {
          "output_type": "display_data",
          "data": {
            "text/plain": [
              "<Figure size 432x288 with 1 Axes>"
            ],
            "image/png": "[encoded data removed]"
          },
          "metadata": {
            "needs_background": "light"
          }
        }
      ]
    },
    {
      "cell_type": "code",
      "source": [
        "state = torch.load(checkpoints + 'checkpoint-6.pkl')\n",
        "losses, val_losses = train(resnet50, data['train'], data['val'], start_epoch=6, epochs=9, lr=0.001, print_every=10, state=state, checkpoint_path=checkpoints)"
      ],
      "metadata": {
        "colab": {
          "base_uri": "https://localhost:8080/"
        },
        "id": "jfucPtONww9n",
        "outputId": "e1bcff73-eb81-44bc-b90e-1f7558c91c78"
      },
      "execution_count": null,
      "outputs": [
        {
          "output_type": "stream",
          "name": "stdout",
          "text": [
            "[6,    10] loss: 0.784\n",
            "[6,    20] loss: 0.766\n",
            "[6,    30] loss: 0.848\n",
            "[6,    40] loss: 0.839\n",
            "[6,    50] loss: 0.857\n",
            "[6,    60] loss: 0.786\n",
            "[6,    70] loss: 0.843\n",
            "[6,    80] loss: 0.841\n",
            "[6,    90] loss: 0.806\n",
            "[6,   100] loss: 0.849\n",
            "[6,   110] loss: 0.878\n",
            "[6,   120] loss: 0.844\n",
            "[6,   130] loss: 0.797\n",
            "[6,   140] loss: 0.760\n",
            "[6,   150] loss: 0.817\n",
            "[6,   160] loss: 0.879\n",
            "[6,   170] loss: 0.795\n",
            "[6,   180] loss: 0.835\n",
            "[6,   190] loss: 0.819\n",
            "[6,   200] loss: 0.790\n",
            "[6,   210] loss: 0.813\n",
            "[6,   220] loss: 0.804\n",
            "[6,   230] loss: 0.759\n",
            "[6,   240] loss: 0.838\n",
            "[6,   250] loss: 0.786\n",
            "[6,   260] loss: 0.825\n",
            "[6,   270] loss: 0.803\n",
            "[7,    10] loss: 0.786\n",
            "[7,    20] loss: 0.728\n",
            "[7,    30] loss: 0.716\n",
            "[7,    40] loss: 0.743\n",
            "[7,    50] loss: 0.735\n",
            "[7,    60] loss: 0.794\n",
            "[7,    70] loss: 0.779\n",
            "[7,    80] loss: 0.774\n",
            "[7,    90] loss: 0.786\n",
            "[7,   100] loss: 0.716\n",
            "[7,   110] loss: 0.746\n",
            "[7,   120] loss: 0.780\n",
            "[7,   130] loss: 0.737\n",
            "[7,   140] loss: 0.715\n",
            "[7,   150] loss: 0.755\n",
            "[7,   160] loss: 0.763\n",
            "[7,   170] loss: 0.735\n",
            "[7,   180] loss: 0.712\n",
            "[7,   190] loss: 0.808\n",
            "[7,   200] loss: 0.711\n",
            "[7,   210] loss: 0.777\n",
            "[7,   220] loss: 0.745\n",
            "[7,   230] loss: 0.731\n",
            "[7,   240] loss: 0.752\n",
            "[7,   250] loss: 0.776\n",
            "[7,   260] loss: 0.763\n",
            "[7,   270] loss: 0.677\n",
            "[8,    10] loss: 0.703\n",
            "[8,    20] loss: 0.646\n",
            "[8,    30] loss: 0.727\n",
            "[8,    40] loss: 0.655\n",
            "[8,    50] loss: 0.662\n",
            "[8,    60] loss: 0.677\n",
            "[8,    70] loss: 0.698\n",
            "[8,    80] loss: 0.645\n",
            "[8,    90] loss: 0.662\n",
            "[8,   100] loss: 0.702\n",
            "[8,   110] loss: 0.678\n",
            "[8,   120] loss: 0.689\n",
            "[8,   130] loss: 0.684\n",
            "[8,   140] loss: 0.687\n",
            "[8,   150] loss: 0.682\n",
            "[8,   160] loss: 0.673\n",
            "[8,   170] loss: 0.739\n",
            "[8,   180] loss: 0.715\n",
            "[8,   190] loss: 0.670\n",
            "[8,   200] loss: 0.638\n",
            "[8,   210] loss: 0.742\n",
            "[8,   220] loss: 0.691\n",
            "[8,   230] loss: 0.731\n",
            "[8,   240] loss: 0.645\n",
            "[8,   250] loss: 0.692\n",
            "[8,   260] loss: 0.728\n",
            "[8,   270] loss: 0.738\n"
          ]
        }
      ]
    },
    {
      "cell_type": "code",
      "source": [
        "predict(resnet50, data['test'], checkpoints + \"preds.csv\")"
      ],
      "metadata": {
        "colab": {
          "base_uri": "https://localhost:8080/"
        },
        "id": "pnNxN_U00z3I",
        "outputId": "270ab597-88c9-4aa2-8fc8-f3ea9fe7f3e5"
      },
      "execution_count": null,
      "outputs": [
        {
          "output_type": "stream",
          "name": "stdout",
          "text": [
            "0\n",
            "100\n",
            "200\n",
            "300\n",
            "400\n",
            "500\n",
            "600\n",
            "700\n",
            "800\n",
            "900\n",
            "1000\n",
            "1100\n",
            "1200\n",
            "1300\n",
            "1400\n",
            "1500\n",
            "1600\n",
            "1700\n",
            "1800\n",
            "1900\n",
            "2000\n",
            "2100\n",
            "2200\n",
            "2300\n",
            "2400\n",
            "2500\n",
            "2600\n",
            "2700\n",
            "2800\n",
            "2900\n",
            "3000\n",
            "3100\n",
            "3200\n",
            "3300\n",
            "3400\n",
            "3500\n",
            "3600\n",
            "3700\n",
            "3800\n",
            "3900\n",
            "4000\n",
            "4100\n",
            "4200\n",
            "4300\n",
            "4400\n",
            "4500\n",
            "4600\n",
            "4700\n",
            "4800\n",
            "4900\n",
            "5000\n",
            "5100\n",
            "5200\n",
            "5300\n",
            "5400\n",
            "5500\n",
            "5600\n",
            "5700\n",
            "5800\n",
            "5900\n",
            "6000\n",
            "6100\n",
            "6200\n",
            "6300\n",
            "6400\n",
            "6500\n",
            "6600\n",
            "6700\n",
            "6800\n",
            "6900\n",
            "7000\n",
            "7100\n",
            "7200\n",
            "7300\n",
            "7400\n",
            "7500\n",
            "7600\n",
            "7700\n",
            "7800\n",
            "7900\n",
            "8000\n",
            "8100\n",
            "8200\n",
            "8300\n",
            "8400\n",
            "8500\n",
            "8600\n",
            "8700\n",
            "8800\n",
            "8900\n",
            "9000\n",
            "9100\n",
            "9200\n",
            "9300\n",
            "9400\n",
            "9500\n",
            "9600\n",
            "9700\n",
            "9800\n",
            "9900\n"
          ]
        }
      ]
    },
    {
      "cell_type": "markdown",
      "source": [
        "## Resnet (experiment 2) Transfer Learning\n",
        "\n",
        "This time we will use a Resnet model with no validation dataset and also affine "
      ],
      "metadata": {
        "id": "Avry3TXO47gh"
      }
    },
    {
      "cell_type": "code",
      "source": [
        "# Define transformations for train and test set\n",
        "transform_train = transforms.Compose([\n",
        "    transforms.Resize(224),\n",
        "    transforms.RandomCrop(224, padding=8, padding_mode='edge'), # Take 224x224 crops from padded images\n",
        "    transforms.RandomHorizontalFlip(),    # 50% of time flip image along y-axis\n",
        "    transforms.RandomPerspective(0.25, 0.25),\n",
        "    transforms.ToTensor(),\n",
        "])\n",
        "\n",
        "# Generate train, val, and test datasets\n",
        "trainset = torchvision.datasets.ImageFolder(root='birds21wi/train', transform=transform_train)\n",
        "\n",
        "trainloader = torch.utils.data.DataLoader(trainset, batch_size=128, shuffle=True, num_workers=2)"
      ],
      "metadata": {
        "id": "nE7w0yfu6_SF"
      },
      "execution_count": null,
      "outputs": []
    },
    {
      "cell_type": "code",
      "source": [
        "resnet50_v2 = torch.hub.load('pytorch/vision:v0.6.0', 'resnet50', pretrained=True)\n",
        "num_ftrs = resnet50_v2.fc.in_features\n",
        "resnet50_v2.fc = nn.Linear(num_ftrs, 555) # This will reinitialize the layer as well"
      ],
      "metadata": {
        "colab": {
          "base_uri": "https://localhost:8080/"
        },
        "id": "4qNIWV2y7gnL",
        "outputId": "241881fe-cfa4-400a-979c-e84b3afefff3"
      },
      "execution_count": null,
      "outputs": [
        {
          "output_type": "stream",
          "name": "stderr",
          "text": [
            "Using cache found in /root/.cache/torch/hub/pytorch_vision_v0.6.0\n"
          ]
        }
      ]
    },
    {
      "cell_type": "code",
      "source": [
        "checkpoints = '/content/drive/MyDrive/colab_files/birds/resnet50_v2/'\n",
        "if not os.path.exists(checkpoints):\n",
        "    os.makedirs(checkpoints)\n",
        "losses, val_losses = train(resnet50_v2, trainloader, None, epochs=5, schedule={0:0.1, 3:0.01}, print_every=10, checkpoint_path=checkpoints)"
      ],
      "metadata": {
        "colab": {
          "base_uri": "https://localhost:8080/"
        },
        "id": "rALrQ7m87rMd",
        "outputId": "e9255cfd-effb-46d6-e7c6-85528ff7253e"
      },
      "execution_count": null,
      "outputs": [
        {
          "output_type": "stream",
          "name": "stdout",
          "text": [
            "Learning rate: 0.100000\n",
            "[0,    10] loss: 6.407\n",
            "[0,    20] loss: 5.999\n",
            "[0,    30] loss: 5.398\n",
            "[0,    40] loss: 5.069\n",
            "[0,    50] loss: 4.871\n",
            "[0,    60] loss: 4.792\n",
            "[0,    70] loss: 4.601\n",
            "[0,    80] loss: 4.523\n",
            "[0,    90] loss: 4.336\n",
            "[0,   100] loss: 4.300\n",
            "[0,   110] loss: 4.123\n",
            "[0,   120] loss: 4.115\n",
            "[0,   130] loss: 4.006\n",
            "[0,   140] loss: 3.908\n",
            "[0,   150] loss: 3.878\n",
            "[0,   160] loss: 3.924\n",
            "[0,   170] loss: 3.832\n",
            "[0,   180] loss: 3.720\n",
            "[0,   190] loss: 3.616\n",
            "[0,   200] loss: 3.594\n",
            "[0,   210] loss: 3.394\n",
            "[0,   220] loss: 3.525\n",
            "[0,   230] loss: 3.266\n",
            "[0,   240] loss: 3.388\n",
            "[0,   250] loss: 3.340\n",
            "[0,   260] loss: 3.225\n",
            "[0,   270] loss: 3.326\n",
            "[0,   280] loss: 3.185\n",
            "[0,   290] loss: 3.083\n",
            "[0,   300] loss: 2.980\n",
            "[1,    10] loss: 3.038\n",
            "[1,    20] loss: 2.907\n",
            "[1,    30] loss: 2.975\n",
            "[1,    40] loss: 2.828\n",
            "[1,    50] loss: 2.952\n",
            "[1,    60] loss: 2.816\n",
            "[1,    70] loss: 2.835\n",
            "[1,    80] loss: 2.653\n",
            "[1,    90] loss: 2.781\n",
            "[1,   100] loss: 2.648\n",
            "[1,   110] loss: 2.807\n",
            "[1,   120] loss: 2.687\n",
            "[1,   130] loss: 2.660\n",
            "[1,   140] loss: 2.736\n",
            "[1,   150] loss: 2.708\n",
            "[1,   160] loss: 2.599\n",
            "[1,   170] loss: 2.677\n",
            "[1,   180] loss: 2.685\n",
            "[1,   190] loss: 2.686\n",
            "[1,   200] loss: 2.547\n",
            "[1,   210] loss: 2.616\n",
            "[1,   220] loss: 2.486\n",
            "[1,   230] loss: 2.498\n",
            "[1,   240] loss: 2.452\n",
            "[1,   250] loss: 2.502\n",
            "[1,   260] loss: 2.466\n",
            "[1,   270] loss: 2.538\n",
            "[1,   280] loss: 2.457\n",
            "[1,   290] loss: 2.470\n",
            "[1,   300] loss: 2.441\n",
            "[2,    10] loss: 2.297\n",
            "[2,    20] loss: 2.301\n",
            "[2,    30] loss: 2.245\n",
            "[2,    40] loss: 2.282\n",
            "[2,    50] loss: 2.286\n",
            "[2,    60] loss: 2.149\n",
            "[2,    70] loss: 2.206\n",
            "[2,    80] loss: 2.280\n",
            "[2,    90] loss: 2.246\n",
            "[2,   100] loss: 2.254\n",
            "[2,   110] loss: 2.248\n",
            "[2,   120] loss: 2.278\n",
            "[2,   130] loss: 2.206\n",
            "[2,   140] loss: 2.223\n",
            "[2,   150] loss: 2.137\n",
            "[2,   160] loss: 2.178\n",
            "[2,   170] loss: 2.169\n",
            "[2,   180] loss: 2.124\n",
            "[2,   190] loss: 2.092\n",
            "[2,   200] loss: 2.148\n",
            "[2,   210] loss: 2.183\n",
            "[2,   220] loss: 2.132\n",
            "[2,   230] loss: 2.108\n",
            "[2,   240] loss: 2.079\n",
            "[2,   250] loss: 2.066\n",
            "[2,   260] loss: 2.139\n",
            "[2,   270] loss: 2.151\n",
            "[2,   280] loss: 2.090\n",
            "[2,   290] loss: 2.030\n",
            "[2,   300] loss: 2.013\n",
            "Learning rate: 0.010000\n",
            "[3,    10] loss: 1.857\n",
            "[3,    20] loss: 1.664\n",
            "[3,    30] loss: 1.482\n",
            "[3,    40] loss: 1.462\n",
            "[3,    50] loss: 1.356\n",
            "[3,    60] loss: 1.349\n",
            "[3,    70] loss: 1.318\n",
            "[3,    80] loss: 1.276\n",
            "[3,    90] loss: 1.275\n",
            "[3,   100] loss: 1.252\n",
            "[3,   110] loss: 1.258\n",
            "[3,   120] loss: 1.206\n",
            "[3,   130] loss: 1.238\n",
            "[3,   140] loss: 1.238\n",
            "[3,   150] loss: 1.188\n",
            "[3,   160] loss: 1.126\n",
            "[3,   170] loss: 1.227\n",
            "[3,   180] loss: 1.172\n",
            "[3,   190] loss: 1.167\n",
            "[3,   200] loss: 1.142\n",
            "[3,   210] loss: 1.100\n",
            "[3,   220] loss: 1.121\n",
            "[3,   230] loss: 1.174\n",
            "[3,   240] loss: 1.084\n",
            "[3,   250] loss: 1.149\n",
            "[3,   260] loss: 1.114\n",
            "[3,   270] loss: 1.125\n",
            "[3,   280] loss: 1.079\n",
            "[3,   290] loss: 1.115\n",
            "[3,   300] loss: 1.127\n",
            "[4,    10] loss: 1.066\n",
            "[4,    20] loss: 0.987\n",
            "[4,    30] loss: 1.013\n",
            "[4,    40] loss: 1.017\n",
            "[4,    50] loss: 1.038\n",
            "[4,    60] loss: 0.976\n",
            "[4,    70] loss: 0.974\n",
            "[4,    80] loss: 1.029\n",
            "[4,    90] loss: 1.046\n",
            "[4,   100] loss: 1.000\n",
            "[4,   110] loss: 1.021\n",
            "[4,   120] loss: 1.019\n",
            "[4,   130] loss: 1.030\n",
            "[4,   140] loss: 0.967\n",
            "[4,   150] loss: 1.052\n",
            "[4,   160] loss: 1.005\n",
            "[4,   170] loss: 1.052\n",
            "[4,   180] loss: 0.946\n",
            "[4,   190] loss: 0.990\n",
            "[4,   200] loss: 0.997\n",
            "[4,   210] loss: 1.019\n",
            "[4,   220] loss: 1.022\n",
            "[4,   230] loss: 1.018\n",
            "[4,   240] loss: 0.979\n",
            "[4,   250] loss: 1.002\n",
            "[4,   260] loss: 1.013\n",
            "[4,   270] loss: 0.976\n",
            "[4,   280] loss: 1.005\n",
            "[4,   290] loss: 1.027\n",
            "[4,   300] loss: 0.956\n"
          ]
        }
      ]
    },
    {
      "cell_type": "code",
      "source": [
        "state = torch.load(checkpoints + 'checkpoint-5.pkl')\n",
        "losses, val_losses = train(resnet50_v2, trainloader, None, start_epoch=5, epochs=7, lr=0.01, print_every=10, state=state, checkpoint_path=checkpoints)"
      ],
      "metadata": {
        "colab": {
          "base_uri": "https://localhost:8080/"
        },
        "id": "tX1bc32xGSTG",
        "outputId": "cf4ec57c-046e-42c0-d1da-e5b86ded5e47"
      },
      "execution_count": null,
      "outputs": [
        {
          "output_type": "stream",
          "name": "stdout",
          "text": [
            "[5,    10] loss: 0.917\n",
            "[5,    20] loss: 0.925\n",
            "[5,    30] loss: 0.911\n",
            "[5,    40] loss: 0.890\n",
            "[5,    50] loss: 0.894\n",
            "[5,    60] loss: 0.869\n",
            "[5,    70] loss: 0.857\n",
            "[5,    80] loss: 0.885\n",
            "[5,    90] loss: 0.888\n",
            "[5,   100] loss: 0.865\n",
            "[5,   110] loss: 0.882\n",
            "[5,   120] loss: 0.871\n",
            "[5,   130] loss: 0.950\n",
            "[5,   140] loss: 0.896\n",
            "[5,   150] loss: 0.953\n",
            "[5,   160] loss: 0.882\n",
            "[5,   170] loss: 0.877\n",
            "[5,   180] loss: 0.877\n",
            "[5,   190] loss: 0.896\n",
            "[5,   200] loss: 0.870\n",
            "[5,   210] loss: 0.918\n",
            "[5,   220] loss: 0.869\n",
            "[5,   230] loss: 0.912\n",
            "[5,   240] loss: 0.930\n",
            "[5,   250] loss: 0.881\n",
            "[5,   260] loss: 0.877\n",
            "[5,   270] loss: 0.969\n",
            "[5,   280] loss: 0.912\n",
            "[5,   290] loss: 0.926\n",
            "[5,   300] loss: 0.882\n",
            "[6,    10] loss: 0.807\n",
            "[6,    20] loss: 0.880\n",
            "[6,    30] loss: 0.838\n",
            "[6,    40] loss: 0.822\n",
            "[6,    50] loss: 0.795\n",
            "[6,    60] loss: 0.797\n",
            "[6,    70] loss: 0.784\n",
            "[6,    80] loss: 0.799\n",
            "[6,    90] loss: 0.876\n",
            "[6,   100] loss: 0.796\n",
            "[6,   110] loss: 0.800\n",
            "[6,   120] loss: 0.839\n",
            "[6,   130] loss: 0.778\n",
            "[6,   140] loss: 0.814\n",
            "[6,   150] loss: 0.774\n",
            "[6,   160] loss: 0.778\n",
            "[6,   170] loss: 0.828\n",
            "[6,   180] loss: 0.815\n",
            "[6,   190] loss: 0.841\n",
            "[6,   200] loss: 0.877\n",
            "[6,   210] loss: 0.858\n",
            "[6,   220] loss: 0.903\n",
            "[6,   230] loss: 0.803\n",
            "[6,   240] loss: 0.861\n",
            "[6,   250] loss: 0.853\n",
            "[6,   260] loss: 0.833\n",
            "[6,   270] loss: 0.781\n",
            "[6,   280] loss: 0.849\n",
            "[6,   290] loss: 0.855\n",
            "[6,   300] loss: 0.831\n"
          ]
        }
      ]
    },
    {
      "cell_type": "code",
      "source": [
        "state = torch.load(checkpoints + 'checkpoint-7.pkl')\n",
        "losses, val_losses = train(resnet50_v2, trainloader, None, start_epoch=7, epochs=11, lr=0.001, print_every=10, state=state, checkpoint_path=checkpoints)"
      ],
      "metadata": {
        "colab": {
          "base_uri": "https://localhost:8080/"
        },
        "id": "T6099KR0Kiom",
        "outputId": "f20ba5d8-58ea-4053-ec53-1ed7040fabd8"
      },
      "execution_count": null,
      "outputs": [
        {
          "output_type": "stream",
          "name": "stdout",
          "text": [
            "[7,    10] loss: 0.745\n",
            "[7,    20] loss: 0.748\n",
            "[7,    30] loss: 0.768\n",
            "[7,    40] loss: 0.765\n",
            "[7,    50] loss: 0.779\n",
            "[7,    60] loss: 0.730\n",
            "[7,    70] loss: 0.706\n",
            "[7,    80] loss: 0.836\n",
            "[7,    90] loss: 0.723\n",
            "[7,   100] loss: 0.709\n",
            "[7,   110] loss: 0.766\n",
            "[7,   120] loss: 0.743\n",
            "[7,   130] loss: 0.737\n",
            "[7,   140] loss: 0.763\n",
            "[7,   150] loss: 0.720\n",
            "[7,   160] loss: 0.733\n",
            "[7,   170] loss: 0.732\n",
            "[7,   180] loss: 0.769\n",
            "[7,   190] loss: 0.758\n",
            "[7,   200] loss: 0.760\n",
            "[7,   210] loss: 0.781\n",
            "[7,   220] loss: 0.828\n",
            "[7,   230] loss: 0.756\n",
            "[7,   240] loss: 0.824\n",
            "[7,   250] loss: 0.747\n",
            "[7,   260] loss: 0.727\n",
            "[7,   270] loss: 0.754\n",
            "[7,   280] loss: 0.773\n",
            "[7,   290] loss: 0.770\n",
            "[7,   300] loss: 0.751\n",
            "[8,    10] loss: 0.672\n",
            "[8,    20] loss: 0.666\n",
            "[8,    30] loss: 0.672\n",
            "[8,    40] loss: 0.715\n",
            "[8,    50] loss: 0.748\n",
            "[8,    60] loss: 0.640\n",
            "[8,    70] loss: 0.696\n",
            "[8,    80] loss: 0.664\n",
            "[8,    90] loss: 0.680\n",
            "[8,   100] loss: 0.690\n",
            "[8,   110] loss: 0.732\n",
            "[8,   120] loss: 0.704\n",
            "[8,   130] loss: 0.695\n",
            "[8,   140] loss: 0.678\n",
            "[8,   150] loss: 0.692\n",
            "[8,   160] loss: 0.702\n",
            "[8,   170] loss: 0.765\n",
            "[8,   180] loss: 0.705\n",
            "[8,   190] loss: 0.712\n",
            "[8,   200] loss: 0.741\n",
            "[8,   210] loss: 0.682\n",
            "[8,   220] loss: 0.676\n",
            "[8,   230] loss: 0.701\n",
            "[8,   240] loss: 0.689\n",
            "[8,   250] loss: 0.725\n",
            "[8,   260] loss: 0.699\n",
            "[8,   270] loss: 0.665\n",
            "[8,   280] loss: 0.769\n",
            "[8,   290] loss: 0.690\n",
            "[8,   300] loss: 0.655\n",
            "[9,    10] loss: 0.611\n",
            "[9,    20] loss: 0.661\n",
            "[9,    30] loss: 0.603\n",
            "[9,    40] loss: 0.641\n",
            "[9,    50] loss: 0.592\n",
            "[9,    60] loss: 0.589\n",
            "[9,    70] loss: 0.647\n",
            "[9,    80] loss: 0.670\n",
            "[9,    90] loss: 0.681\n",
            "[9,   100] loss: 0.661\n",
            "[9,   110] loss: 0.644\n",
            "[9,   120] loss: 0.699\n",
            "[9,   130] loss: 0.640\n",
            "[9,   140] loss: 0.694\n",
            "[9,   150] loss: 0.655\n",
            "[9,   160] loss: 0.679\n",
            "[9,   170] loss: 0.614\n",
            "[9,   180] loss: 0.622\n",
            "[9,   190] loss: 0.686\n",
            "[9,   200] loss: 0.648\n",
            "[9,   210] loss: 0.625\n",
            "[9,   220] loss: 0.626\n",
            "[9,   230] loss: 0.687\n",
            "[9,   240] loss: 0.655\n",
            "[9,   250] loss: 0.629\n",
            "[9,   260] loss: 0.676\n",
            "[9,   270] loss: 0.674\n",
            "[9,   280] loss: 0.689\n",
            "[9,   290] loss: 0.631\n",
            "[9,   300] loss: 0.623\n",
            "[10,    10] loss: 0.609\n",
            "[10,    20] loss: 0.578\n",
            "[10,    30] loss: 0.597\n",
            "[10,    40] loss: 0.594\n",
            "[10,    50] loss: 0.609\n",
            "[10,    60] loss: 0.573\n",
            "[10,    70] loss: 0.536\n",
            "[10,    80] loss: 0.604\n",
            "[10,    90] loss: 0.588\n",
            "[10,   100] loss: 0.574\n",
            "[10,   110] loss: 0.575\n",
            "[10,   120] loss: 0.637\n",
            "[10,   130] loss: 0.588\n",
            "[10,   140] loss: 0.624\n",
            "[10,   150] loss: 0.583\n",
            "[10,   160] loss: 0.616\n",
            "[10,   170] loss: 0.634\n",
            "[10,   180] loss: 0.593\n",
            "[10,   190] loss: 0.646\n",
            "[10,   200] loss: 0.614\n",
            "[10,   210] loss: 0.600\n",
            "[10,   220] loss: 0.633\n",
            "[10,   230] loss: 0.667\n",
            "[10,   240] loss: 0.542\n",
            "[10,   250] loss: 0.587\n",
            "[10,   260] loss: 0.636\n",
            "[10,   270] loss: 0.571\n",
            "[10,   280] loss: 0.622\n",
            "[10,   290] loss: 0.632\n",
            "[10,   300] loss: 0.609\n"
          ]
        }
      ]
    },
    {
      "cell_type": "code",
      "source": [
        "plt.plot(smooth(losses,50))"
      ],
      "metadata": {
        "colab": {
          "base_uri": "https://localhost:8080/",
          "height": 283
        },
        "id": "qo9AEoHHQQGJ",
        "outputId": "744080db-0189-4ad8-d8ae-3e82311e74dc"
      },
      "execution_count": null,
      "outputs": [
        {
          "output_type": "execute_result",
          "data": {
            "text/plain": [
              "[<matplotlib.lines.Line2D at 0x7fe6a9c26ca0>]"
            ]
          },
          "metadata": {},
          "execution_count": 56
        },
        {
          "output_type": "display_data",
          "data": {
            "text/plain": [
              "<Figure size 432x288 with 1 Axes>"
            ],
            "image/png": "[encoded data removed]"
          },
          "metadata": {
            "needs_background": "light"
          }
        }
      ]
    },
    {
      "cell_type": "code",
      "source": [
        "state = torch.load(checkpoints + 'checkpoint-11.pkl')\n",
        "resnet50_v2.load_state_dict(state['net'])\n",
        "predict(resnet50, data['test'], checkpoints + \"preds.csv\")"
      ],
      "metadata": {
        "colab": {
          "base_uri": "https://localhost:8080/"
        },
        "id": "aosnlzMaT6v6",
        "outputId": "58f22794-8bff-4300-804d-ee26f7f9ab56"
      },
      "execution_count": null,
      "outputs": [
        {
          "output_type": "stream",
          "name": "stdout",
          "text": [
            "0\n",
            "100\n",
            "200\n",
            "300\n",
            "400\n",
            "500\n",
            "600\n",
            "700\n",
            "800\n",
            "900\n",
            "1000\n",
            "1100\n",
            "1200\n",
            "1300\n",
            "1400\n",
            "1500\n",
            "1600\n",
            "1700\n",
            "1800\n",
            "1900\n",
            "2000\n",
            "2100\n",
            "2200\n",
            "2300\n",
            "2400\n",
            "2500\n",
            "2600\n",
            "2700\n",
            "2800\n",
            "2900\n",
            "3000\n",
            "3100\n",
            "3200\n",
            "3300\n",
            "3400\n",
            "3500\n",
            "3600\n",
            "3700\n",
            "3800\n",
            "3900\n",
            "4000\n",
            "4100\n",
            "4200\n",
            "4300\n",
            "4400\n",
            "4500\n",
            "4600\n",
            "4700\n",
            "4800\n",
            "4900\n",
            "5000\n",
            "5100\n",
            "5200\n",
            "5300\n",
            "5400\n",
            "5500\n",
            "5600\n",
            "5700\n",
            "5800\n",
            "5900\n",
            "6000\n",
            "6100\n",
            "6200\n",
            "6300\n",
            "6400\n",
            "6500\n",
            "6600\n",
            "6700\n",
            "6800\n",
            "6900\n",
            "7000\n",
            "7100\n",
            "7200\n",
            "7300\n",
            "7400\n",
            "7500\n",
            "7600\n",
            "7700\n",
            "7800\n",
            "7900\n",
            "8000\n",
            "8100\n",
            "8200\n",
            "8300\n",
            "8400\n",
            "8500\n",
            "8600\n",
            "8700\n",
            "8800\n",
            "8900\n",
            "9000\n",
            "9100\n",
            "9200\n",
            "9300\n",
            "9400\n",
            "9500\n",
            "9600\n",
            "9700\n",
            "9800\n",
            "9900\n"
          ]
        }
      ]
    },
    {
      "cell_type": "markdown",
      "source": [
        "## Let's try using larger images now maybe that will help\n",
        "\n",
        "This used up too many resources. Not efficient."
      ],
      "metadata": {
        "id": "h8KEDX8-QWWo"
      }
    },
    {
      "cell_type": "code",
      "source": [
        "# Define transformations for train and test set\n",
        "transform_train = transforms.Compose([\n",
        "    transforms.Resize(512),\n",
        "    transforms.RandomCrop(512, padding=8, padding_mode='edge'), # Take 224x224 crops from padded images\n",
        "    transforms.RandomHorizontalFlip(),    # 50% of time flip image along y-axis\n",
        "    transforms.ToTensor(),\n",
        "])\n",
        "\n",
        "# Generate train, val, and test datasets\n",
        "trainset = torchvision.datasets.ImageFolder(root='birds21wi/train', transform=transform_train)\n",
        "\n",
        "trainloader_large = torch.utils.data.DataLoader(trainset, batch_size=64, shuffle=True, num_workers=2)"
      ],
      "metadata": {
        "id": "EccXpkFrQgPL"
      },
      "execution_count": null,
      "outputs": []
    },
    {
      "cell_type": "code",
      "source": [
        "state = torch.load(checkpoints + 'checkpoint-11.pkl')\n",
        "losses, val_losses = train(resnet50_v2, trainloader_large, None, start_epoch=11, epochs=13, lr=0.001, print_every=10, state=state, checkpoint_path=checkpoints)"
      ],
      "metadata": {
        "colab": {
          "base_uri": "https://localhost:8080/",
          "height": 1000
        },
        "id": "pNr0KGYtQnfv",
        "outputId": "aa63e724-0a0a-4c70-c31e-5372fedaeb0e"
      },
      "execution_count": null,
      "outputs": [
        {
          "output_type": "stream",
          "name": "stdout",
          "text": [
            "[11,    10] loss: 2.201\n",
            "[11,    20] loss: 1.811\n",
            "[11,    30] loss: 1.525\n",
            "[11,    40] loss: 1.459\n",
            "[11,    50] loss: 1.295\n",
            "[11,    60] loss: 1.286\n",
            "[11,    70] loss: 1.307\n",
            "[11,    80] loss: 1.227\n",
            "[11,    90] loss: 1.148\n",
            "[11,   100] loss: 1.223\n",
            "[11,   110] loss: 1.175\n",
            "[11,   120] loss: 1.164\n",
            "[11,   130] loss: 1.159\n",
            "[11,   140] loss: 1.156\n",
            "[11,   150] loss: 1.082\n",
            "[11,   160] loss: 1.085\n",
            "[11,   170] loss: 1.091\n",
            "[11,   180] loss: 1.143\n",
            "[11,   190] loss: 1.029\n",
            "[11,   200] loss: 1.097\n",
            "[11,   210] loss: 1.047\n",
            "[11,   220] loss: 1.053\n",
            "[11,   230] loss: 1.038\n",
            "[11,   240] loss: 1.061\n",
            "[11,   250] loss: 1.038\n",
            "[11,   260] loss: 1.105\n",
            "[11,   270] loss: 1.113\n",
            "[11,   280] loss: 1.033\n",
            "[11,   290] loss: 1.086\n",
            "[11,   300] loss: 1.013\n",
            "[11,   310] loss: 0.985\n",
            "[11,   320] loss: 0.990\n",
            "[11,   330] loss: 1.027\n",
            "[11,   340] loss: 0.936\n",
            "[11,   350] loss: 1.008\n",
            "[11,   360] loss: 0.982\n",
            "[11,   370] loss: 0.962\n",
            "[11,   380] loss: 0.946\n",
            "[11,   390] loss: 0.966\n",
            "[11,   400] loss: 1.013\n",
            "[11,   410] loss: 1.013\n",
            "[11,   420] loss: 0.921\n",
            "[11,   430] loss: 0.960\n",
            "[11,   440] loss: 0.989\n",
            "[11,   450] loss: 0.940\n",
            "[11,   460] loss: 0.921\n",
            "[11,   470] loss: 0.961\n",
            "[11,   480] loss: 0.948\n",
            "[11,   490] loss: 0.906\n",
            "[11,   500] loss: 0.969\n",
            "[11,   510] loss: 0.923\n",
            "[11,   520] loss: 0.966\n",
            "[11,   530] loss: 0.877\n",
            "[11,   540] loss: 0.944\n",
            "[11,   550] loss: 0.909\n",
            "[11,   560] loss: 0.922\n",
            "[11,   570] loss: 0.927\n",
            "[11,   580] loss: 1.007\n",
            "[11,   590] loss: 0.909\n",
            "[11,   600] loss: 0.876\n",
            "[12,    10] loss: 0.820\n",
            "[12,    20] loss: 0.784\n",
            "[12,    30] loss: 0.869\n",
            "[12,    40] loss: 0.820\n",
            "[12,    50] loss: 0.786\n",
            "[12,    60] loss: 0.788\n",
            "[12,    70] loss: 0.764\n",
            "[12,    80] loss: 0.793\n",
            "[12,    90] loss: 0.792\n",
            "[12,   100] loss: 0.730\n",
            "[12,   110] loss: 0.772\n",
            "[12,   120] loss: 0.733\n",
            "[12,   130] loss: 0.723\n",
            "[12,   140] loss: 0.753\n",
            "[12,   150] loss: 0.861\n",
            "[12,   160] loss: 0.734\n",
            "[12,   170] loss: 0.777\n",
            "[12,   180] loss: 0.812\n",
            "[12,   190] loss: 0.823\n",
            "[12,   200] loss: 0.818\n",
            "[12,   210] loss: 0.750\n",
            "[12,   220] loss: 0.715\n",
            "[12,   230] loss: 0.792\n",
            "[12,   240] loss: 0.799\n",
            "[12,   250] loss: 0.887\n",
            "[12,   260] loss: 0.786\n",
            "[12,   270] loss: 0.772\n",
            "[12,   280] loss: 0.759\n",
            "[12,   290] loss: 0.814\n",
            "[12,   300] loss: 0.784\n",
            "[12,   310] loss: 0.757\n",
            "[12,   320] loss: 0.757\n",
            "[12,   330] loss: 0.778\n",
            "[12,   340] loss: 0.774\n",
            "[12,   350] loss: 0.764\n",
            "[12,   360] loss: 0.765\n"
          ]
        },
        {
          "output_type": "error",
          "ename": "KeyboardInterrupt",
          "evalue": "ignored",
          "traceback": [
            "\u001b[0;31m---------------------------------------------------------------------------\u001b[0m",
            "\u001b[0;31mKeyboardInterrupt\u001b[0m                         Traceback (most recent call last)",
            "\u001b[0;32m<ipython-input-58-47504a18151e>\u001b[0m in \u001b[0;36m<module>\u001b[0;34m\u001b[0m\n\u001b[1;32m      1\u001b[0m \u001b[0mstate\u001b[0m \u001b[0;34m=\u001b[0m \u001b[0mtorch\u001b[0m\u001b[0;34m.\u001b[0m\u001b[0mload\u001b[0m\u001b[0;34m(\u001b[0m\u001b[0mcheckpoints\u001b[0m \u001b[0;34m+\u001b[0m \u001b[0;34m'checkpoint-11.pkl'\u001b[0m\u001b[0;34m)\u001b[0m\u001b[0;34m\u001b[0m\u001b[0;34m\u001b[0m\u001b[0m\n\u001b[0;32m----> 2\u001b[0;31m \u001b[0mlosses\u001b[0m\u001b[0;34m,\u001b[0m \u001b[0mval_losses\u001b[0m \u001b[0;34m=\u001b[0m \u001b[0mtrain\u001b[0m\u001b[0;34m(\u001b[0m\u001b[0mresnet50_v2\u001b[0m\u001b[0;34m,\u001b[0m \u001b[0mtrainloader_large\u001b[0m\u001b[0;34m,\u001b[0m \u001b[0;32mNone\u001b[0m\u001b[0;34m,\u001b[0m \u001b[0mstart_epoch\u001b[0m\u001b[0;34m=\u001b[0m\u001b[0;36m11\u001b[0m\u001b[0;34m,\u001b[0m \u001b[0mepochs\u001b[0m\u001b[0;34m=\u001b[0m\u001b[0;36m13\u001b[0m\u001b[0;34m,\u001b[0m \u001b[0mlr\u001b[0m\u001b[0;34m=\u001b[0m\u001b[0;36m0.001\u001b[0m\u001b[0;34m,\u001b[0m \u001b[0mprint_every\u001b[0m\u001b[0;34m=\u001b[0m\u001b[0;36m10\u001b[0m\u001b[0;34m,\u001b[0m \u001b[0mstate\u001b[0m\u001b[0;34m=\u001b[0m\u001b[0mstate\u001b[0m\u001b[0;34m,\u001b[0m \u001b[0mcheckpoint_path\u001b[0m\u001b[0;34m=\u001b[0m\u001b[0mcheckpoints\u001b[0m\u001b[0;34m)\u001b[0m\u001b[0;34m\u001b[0m\u001b[0;34m\u001b[0m\u001b[0m\n\u001b[0m",
            "\u001b[0;32m<ipython-input-49-c7b9010aad14>\u001b[0m in \u001b[0;36mtrain\u001b[0;34m(net, dataloader, valloader, epochs, start_epoch, lr, momentum, decay, verbose, print_every, state, schedule, checkpoint_path)\u001b[0m\n\u001b[1;32m     41\u001b[0m             \u001b[0mloss\u001b[0m \u001b[0;34m=\u001b[0m \u001b[0mcriterion\u001b[0m\u001b[0;34m(\u001b[0m\u001b[0moutputs\u001b[0m\u001b[0;34m,\u001b[0m \u001b[0mlabels\u001b[0m\u001b[0;34m)\u001b[0m\u001b[0;34m\u001b[0m\u001b[0;34m\u001b[0m\u001b[0m\n\u001b[1;32m     42\u001b[0m             \u001b[0mloss\u001b[0m\u001b[0;34m.\u001b[0m\u001b[0mbackward\u001b[0m\u001b[0;34m(\u001b[0m\u001b[0;34m)\u001b[0m  \u001b[0;31m# autograd magic, computes all the partial derivatives\u001b[0m\u001b[0;34m\u001b[0m\u001b[0;34m\u001b[0m\u001b[0m\n\u001b[0;32m---> 43\u001b[0;31m             \u001b[0moptimizer\u001b[0m\u001b[0;34m.\u001b[0m\u001b[0mstep\u001b[0m\u001b[0;34m(\u001b[0m\u001b[0;34m)\u001b[0m \u001b[0;31m# takes a step in gradient direction\u001b[0m\u001b[0;34m\u001b[0m\u001b[0;34m\u001b[0m\u001b[0m\n\u001b[0m\u001b[1;32m     44\u001b[0m \u001b[0;34m\u001b[0m\u001b[0m\n\u001b[1;32m     45\u001b[0m             \u001b[0mlosses\u001b[0m\u001b[0;34m.\u001b[0m\u001b[0mappend\u001b[0m\u001b[0;34m(\u001b[0m\u001b[0mloss\u001b[0m\u001b[0;34m.\u001b[0m\u001b[0mitem\u001b[0m\u001b[0;34m(\u001b[0m\u001b[0;34m)\u001b[0m\u001b[0;34m)\u001b[0m\u001b[0;34m\u001b[0m\u001b[0;34m\u001b[0m\u001b[0m\n",
            "\u001b[0;32m/usr/local/lib/python3.9/dist-packages/torch/optim/optimizer.py\u001b[0m in \u001b[0;36mwrapper\u001b[0;34m(*args, **kwargs)\u001b[0m\n\u001b[1;32m    138\u001b[0m                 \u001b[0mprofile_name\u001b[0m \u001b[0;34m=\u001b[0m \u001b[0;34m\"Optimizer.step#{}.step\"\u001b[0m\u001b[0;34m.\u001b[0m\u001b[0mformat\u001b[0m\u001b[0;34m(\u001b[0m\u001b[0mobj\u001b[0m\u001b[0;34m.\u001b[0m\u001b[0m__class__\u001b[0m\u001b[0;34m.\u001b[0m\u001b[0m__name__\u001b[0m\u001b[0;34m)\u001b[0m\u001b[0;34m\u001b[0m\u001b[0;34m\u001b[0m\u001b[0m\n\u001b[1;32m    139\u001b[0m                 \u001b[0;32mwith\u001b[0m \u001b[0mtorch\u001b[0m\u001b[0;34m.\u001b[0m\u001b[0mautograd\u001b[0m\u001b[0;34m.\u001b[0m\u001b[0mprofiler\u001b[0m\u001b[0;34m.\u001b[0m\u001b[0mrecord_function\u001b[0m\u001b[0;34m(\u001b[0m\u001b[0mprofile_name\u001b[0m\u001b[0;34m)\u001b[0m\u001b[0;34m:\u001b[0m\u001b[0;34m\u001b[0m\u001b[0;34m\u001b[0m\u001b[0m\n\u001b[0;32m--> 140\u001b[0;31m                     \u001b[0mout\u001b[0m \u001b[0;34m=\u001b[0m \u001b[0mfunc\u001b[0m\u001b[0;34m(\u001b[0m\u001b[0;34m*\u001b[0m\u001b[0margs\u001b[0m\u001b[0;34m,\u001b[0m \u001b[0;34m**\u001b[0m\u001b[0mkwargs\u001b[0m\u001b[0;34m)\u001b[0m\u001b[0;34m\u001b[0m\u001b[0;34m\u001b[0m\u001b[0m\n\u001b[0m\u001b[1;32m    141\u001b[0m                     \u001b[0mobj\u001b[0m\u001b[0;34m.\u001b[0m\u001b[0m_optimizer_step_code\u001b[0m\u001b[0;34m(\u001b[0m\u001b[0;34m)\u001b[0m\u001b[0;34m\u001b[0m\u001b[0;34m\u001b[0m\u001b[0m\n\u001b[1;32m    142\u001b[0m                     \u001b[0;32mreturn\u001b[0m \u001b[0mout\u001b[0m\u001b[0;34m\u001b[0m\u001b[0;34m\u001b[0m\u001b[0m\n",
            "\u001b[0;32m/usr/local/lib/python3.9/dist-packages/torch/optim/optimizer.py\u001b[0m in \u001b[0;36m_use_grad\u001b[0;34m(self, *args, **kwargs)\u001b[0m\n\u001b[1;32m     21\u001b[0m         \u001b[0;32mtry\u001b[0m\u001b[0;34m:\u001b[0m\u001b[0;34m\u001b[0m\u001b[0;34m\u001b[0m\u001b[0m\n\u001b[1;32m     22\u001b[0m             \u001b[0mtorch\u001b[0m\u001b[0;34m.\u001b[0m\u001b[0mset_grad_enabled\u001b[0m\u001b[0;34m(\u001b[0m\u001b[0mself\u001b[0m\u001b[0;34m.\u001b[0m\u001b[0mdefaults\u001b[0m\u001b[0;34m[\u001b[0m\u001b[0;34m'differentiable'\u001b[0m\u001b[0;34m]\u001b[0m\u001b[0;34m)\u001b[0m\u001b[0;34m\u001b[0m\u001b[0;34m\u001b[0m\u001b[0m\n\u001b[0;32m---> 23\u001b[0;31m             \u001b[0mret\u001b[0m \u001b[0;34m=\u001b[0m \u001b[0mfunc\u001b[0m\u001b[0;34m(\u001b[0m\u001b[0mself\u001b[0m\u001b[0;34m,\u001b[0m \u001b[0;34m*\u001b[0m\u001b[0margs\u001b[0m\u001b[0;34m,\u001b[0m \u001b[0;34m**\u001b[0m\u001b[0mkwargs\u001b[0m\u001b[0;34m)\u001b[0m\u001b[0;34m\u001b[0m\u001b[0;34m\u001b[0m\u001b[0m\n\u001b[0m\u001b[1;32m     24\u001b[0m         \u001b[0;32mfinally\u001b[0m\u001b[0;34m:\u001b[0m\u001b[0;34m\u001b[0m\u001b[0;34m\u001b[0m\u001b[0m\n\u001b[1;32m     25\u001b[0m             \u001b[0mtorch\u001b[0m\u001b[0;34m.\u001b[0m\u001b[0mset_grad_enabled\u001b[0m\u001b[0;34m(\u001b[0m\u001b[0mprev_grad\u001b[0m\u001b[0;34m)\u001b[0m\u001b[0;34m\u001b[0m\u001b[0;34m\u001b[0m\u001b[0m\n",
            "\u001b[0;32m/usr/local/lib/python3.9/dist-packages/torch/optim/sgd.py\u001b[0m in \u001b[0;36mstep\u001b[0;34m(self, closure)\u001b[0m\n\u001b[1;32m    149\u001b[0m                         \u001b[0mmomentum_buffer_list\u001b[0m\u001b[0;34m.\u001b[0m\u001b[0mappend\u001b[0m\u001b[0;34m(\u001b[0m\u001b[0mstate\u001b[0m\u001b[0;34m[\u001b[0m\u001b[0;34m'momentum_buffer'\u001b[0m\u001b[0;34m]\u001b[0m\u001b[0;34m)\u001b[0m\u001b[0;34m\u001b[0m\u001b[0;34m\u001b[0m\u001b[0m\n\u001b[1;32m    150\u001b[0m \u001b[0;34m\u001b[0m\u001b[0m\n\u001b[0;32m--> 151\u001b[0;31m             sgd(params_with_grad,\n\u001b[0m\u001b[1;32m    152\u001b[0m                 \u001b[0md_p_list\u001b[0m\u001b[0;34m,\u001b[0m\u001b[0;34m\u001b[0m\u001b[0;34m\u001b[0m\u001b[0m\n\u001b[1;32m    153\u001b[0m                 \u001b[0mmomentum_buffer_list\u001b[0m\u001b[0;34m,\u001b[0m\u001b[0;34m\u001b[0m\u001b[0;34m\u001b[0m\u001b[0m\n",
            "\u001b[0;32m/usr/local/lib/python3.9/dist-packages/torch/optim/sgd.py\u001b[0m in \u001b[0;36msgd\u001b[0;34m(params, d_p_list, momentum_buffer_list, has_sparse_grad, foreach, weight_decay, momentum, lr, dampening, nesterov, maximize)\u001b[0m\n\u001b[1;32m    200\u001b[0m         \u001b[0mfunc\u001b[0m \u001b[0;34m=\u001b[0m \u001b[0m_single_tensor_sgd\u001b[0m\u001b[0;34m\u001b[0m\u001b[0;34m\u001b[0m\u001b[0m\n\u001b[1;32m    201\u001b[0m \u001b[0;34m\u001b[0m\u001b[0m\n\u001b[0;32m--> 202\u001b[0;31m     func(params,\n\u001b[0m\u001b[1;32m    203\u001b[0m          \u001b[0md_p_list\u001b[0m\u001b[0;34m,\u001b[0m\u001b[0;34m\u001b[0m\u001b[0;34m\u001b[0m\u001b[0m\n\u001b[1;32m    204\u001b[0m          \u001b[0mmomentum_buffer_list\u001b[0m\u001b[0;34m,\u001b[0m\u001b[0;34m\u001b[0m\u001b[0;34m\u001b[0m\u001b[0m\n",
            "\u001b[0;32m/usr/local/lib/python3.9/dist-packages/torch/optim/sgd.py\u001b[0m in \u001b[0;36m_single_tensor_sgd\u001b[0;34m(params, d_p_list, momentum_buffer_list, weight_decay, momentum, lr, dampening, nesterov, maximize, has_sparse_grad)\u001b[0m\n\u001b[1;32m    243\u001b[0m                 \u001b[0md_p\u001b[0m \u001b[0;34m=\u001b[0m \u001b[0mbuf\u001b[0m\u001b[0;34m\u001b[0m\u001b[0;34m\u001b[0m\u001b[0m\n\u001b[1;32m    244\u001b[0m \u001b[0;34m\u001b[0m\u001b[0m\n\u001b[0;32m--> 245\u001b[0;31m         \u001b[0mparam\u001b[0m\u001b[0;34m.\u001b[0m\u001b[0madd_\u001b[0m\u001b[0;34m(\u001b[0m\u001b[0md_p\u001b[0m\u001b[0;34m,\u001b[0m \u001b[0malpha\u001b[0m\u001b[0;34m=\u001b[0m\u001b[0;34m-\u001b[0m\u001b[0mlr\u001b[0m\u001b[0;34m)\u001b[0m\u001b[0;34m\u001b[0m\u001b[0;34m\u001b[0m\u001b[0m\n\u001b[0m\u001b[1;32m    246\u001b[0m \u001b[0;34m\u001b[0m\u001b[0m\n\u001b[1;32m    247\u001b[0m \u001b[0;34m\u001b[0m\u001b[0m\n",
            "\u001b[0;31mKeyboardInterrupt\u001b[0m: "
          ]
        }
      ]
    }
  ]
}